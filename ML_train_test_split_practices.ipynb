{
 "cells": [
  {
   "cell_type": "markdown",
   "id": "ce6242ae",
   "metadata": {},
   "source": [
    "# importing required library \n",
    "\n",
    "numpy for creating dummy dataset. \n",
    "\n",
    "sklearn library to perform train_test_split of the given dataset"
   ]
  },
  {
   "cell_type": "code",
   "execution_count": 1,
   "id": "a4266aa1",
   "metadata": {},
   "outputs": [],
   "source": [
    "import numpy as np\n",
    "from sklearn.model_selection import train_test_split"
   ]
  },
  {
   "cell_type": "markdown",
   "id": "fc99ce9f",
   "metadata": {},
   "source": [
    "# Dummy data using arange function"
   ]
  },
  {
   "cell_type": "code",
   "execution_count": 2,
   "id": "08b7862a",
   "metadata": {},
   "outputs": [],
   "source": [
    "dataset = np.arange(10)"
   ]
  },
  {
   "cell_type": "code",
   "execution_count": 3,
   "id": "efe1fc81",
   "metadata": {},
   "outputs": [],
   "source": [
    "#train_test for the given dataset\n",
    "X_train, X_test = train_test_split(dataset, test_size = 4)"
   ]
  },
  {
   "cell_type": "markdown",
   "id": "c5b33796",
   "metadata": {},
   "source": [
    "Actual data"
   ]
  },
  {
   "cell_type": "code",
   "execution_count": 4,
   "id": "303b1e5c",
   "metadata": {},
   "outputs": [
    {
     "data": {
      "text/plain": [
       "array([0, 1, 2, 3, 4, 5, 6, 7, 8, 9])"
      ]
     },
     "execution_count": 4,
     "metadata": {},
     "output_type": "execute_result"
    }
   ],
   "source": [
    "dataset"
   ]
  },
  {
   "cell_type": "markdown",
   "id": "f9a47216",
   "metadata": {},
   "source": [
    "Train data i.e. 60% data split for training and 40% for testing"
   ]
  },
  {
   "cell_type": "code",
   "execution_count": 5,
   "id": "4191257f",
   "metadata": {},
   "outputs": [
    {
     "data": {
      "text/plain": [
       "array([1, 9, 2, 8, 3, 0])"
      ]
     },
     "execution_count": 5,
     "metadata": {},
     "output_type": "execute_result"
    }
   ],
   "source": [
    "X_train"
   ]
  },
  {
   "cell_type": "code",
   "execution_count": 6,
   "id": "c78cbbf0",
   "metadata": {},
   "outputs": [
    {
     "data": {
      "text/plain": [
       "array([5, 4, 6, 7])"
      ]
     },
     "execution_count": 6,
     "metadata": {},
     "output_type": "execute_result"
    }
   ],
   "source": [
    "X_test"
   ]
  }
 ],
 "metadata": {
  "kernelspec": {
   "display_name": "Python 3 (ipykernel)",
   "language": "python",
   "name": "python3"
  },
  "language_info": {
   "codemirror_mode": {
    "name": "ipython",
    "version": 3
   },
   "file_extension": ".py",
   "mimetype": "text/x-python",
   "name": "python",
   "nbconvert_exporter": "python",
   "pygments_lexer": "ipython3",
   "version": "3.9.12"
  }
 },
 "nbformat": 4,
 "nbformat_minor": 5
}
